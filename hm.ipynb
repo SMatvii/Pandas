{
 "cells": [
  {
   "cell_type": "markdown",
   "id": "de1780e0",
   "metadata": {},
   "source": [
    "# Домашнє завдання: DataFrame операції"
   ]
  },
  {
   "cell_type": "markdown",
   "id": "1613b9c6",
   "metadata": {},
   "source": [
    "## Завдання 1"
   ]
  },
  {
   "cell_type": "code",
   "execution_count": null,
   "id": "3d011ffa",
   "metadata": {},
   "outputs": [],
   "source": [
    "import pandas as pd\n",
    "data = {\n",
    "    'Name': ['Alex', 'Bella', 'Chris'],\n",
    "    'Age': [30, 25, 35],\n",
    "    'City': ['Kyiv', 'Lviv', 'Odesa']\n",
    "}\n",
    "df = pd.DataFrame(data)\n",
    "print(df)"
   ]
  },
  {
   "cell_type": "code",
   "execution_count": null,
   "id": "0351be29",
   "metadata": {},
   "outputs": [],
   "source": [
    "df['Salary'] = [50000, 60000, 55000]\n",
    "print(df)"
   ]
  },
  {
   "cell_type": "code",
   "execution_count": null,
   "id": "b93ef422",
   "metadata": {},
   "outputs": [],
   "source": [
    "df = df.drop('Age', axis=1)\n",
    "print(df)"
   ]
  },
  {
   "cell_type": "code",
   "execution_count": null,
   "id": "f53f6db1",
   "metadata": {},
   "outputs": [],
   "source": [
    "\n",
    "new_row = pd.DataFrame([{'Name': 'Diana', 'City': 'Dnipro', 'Salary': 58000}])\n",
    "df = pd.concat([df, new_row], ignore_index=True)\n",
    "print(df)"
   ]
  },
  {
   "cell_type": "code",
   "execution_count": null,
   "id": "50450a43",
   "metadata": {},
   "outputs": [],
   "source": [
    "\n",
    "df = df.drop(0, axis=0).reset_index(drop=True)\n",
    "print(df)"
   ]
  },
  {
   "cell_type": "code",
   "execution_count": null,
   "id": "7218fe4f",
   "metadata": {},
   "outputs": [],
   "source": [
    "\n",
    "df['Department'] = 'Sales'\n",
    "print(df)"
   ]
  },
  {
   "cell_type": "code",
   "execution_count": null,
   "id": "c1bd745b",
   "metadata": {},
   "outputs": [],
   "source": [
    "\n",
    "df = df.drop('Salary', axis=1)\n",
    "print(df)"
   ]
  },
  {
   "cell_type": "markdown",
   "id": "190388ba",
   "metadata": {},
   "source": [
    "## Завдання 2"
   ]
  },
  {
   "cell_type": "code",
   "execution_count": null,
   "id": "cb730f4b",
   "metadata": {},
   "outputs": [],
   "source": [
    "data = {\n",
    "    'Product': ['Book', 'Pen', 'Notebook'],\n",
    "    'Price': [15, 2, 5],\n",
    "    'Stock': [100, 500, 200]\n",
    "}\n",
    "df = pd.DataFrame(data)\n",
    "print(df)"
   ]
  },
  {
   "cell_type": "code",
   "execution_count": null,
   "id": "5bef5e13",
   "metadata": {},
   "outputs": [],
   "source": [
    "\n",
    "df['Discount'] = '10%'\n",
    "print(df)"
   ]
  },
  {
   "cell_type": "code",
   "execution_count": null,
   "id": "e9d8fc32",
   "metadata": {},
   "outputs": [],
   "source": [
    "\n",
    "df = df.drop('Stock', axis=1)\n",
    "print(df)"
   ]
  },
  {
   "cell_type": "code",
   "execution_count": null,
   "id": "07b08f27",
   "metadata": {},
   "outputs": [],
   "source": [
    "\n",
    "new_row = pd.DataFrame([{'Product': 'Pencil', 'Price': 1, 'Discount': '5%'}])\n",
    "df = pd.concat([df, new_row], ignore_index=True)\n",
    "print(df)"
   ]
  },
  {
   "cell_type": "code",
   "execution_count": null,
   "id": "65ef038b",
   "metadata": {},
   "outputs": [],
   "source": [
    "df = df.drop(1, axis=0).reset_index(drop=True)\n",
    "print(df)"
   ]
  },
  {
   "cell_type": "code",
   "execution_count": null,
   "id": "41b1f65c",
   "metadata": {},
   "outputs": [],
   "source": [
    "\n",
    "df['Supplier'] = 'Co.'\n",
    "print(df)"
   ]
  },
  {
   "cell_type": "code",
   "execution_count": null,
   "id": "16611172",
   "metadata": {},
   "outputs": [],
   "source": [
    "\n",
    "df = df.drop(2, axis=0).reset_index(drop=True)\n",
    "print(df)"
   ]
  },
  {
   "cell_type": "markdown",
   "id": "058bab2a",
   "metadata": {},
   "source": [
    "## Завдання 3"
   ]
  },
  {
   "cell_type": "code",
   "execution_count": null,
   "id": "9a5625ec",
   "metadata": {},
   "outputs": [],
   "source": [
    "data = {\n",
    "    'Employee': ['John', 'Emma', 'Oliver'],\n",
    "    'Department': ['HR', 'Finance', 'IT'],\n",
    "    'Salary': [50000, 70000, 60000],\n",
    "    'Age': [28, 34, 29]\n",
    "}\n",
    "df = pd.DataFrame(data)\n",
    "print(df)"
   ]
  },
  {
   "cell_type": "code",
   "execution_count": null,
   "id": "3b5cab39",
   "metadata": {},
   "outputs": [],
   "source": [
    "\n",
    "df['Bonus'] = df['Salary'] * 0.1\n",
    "print(df)"
   ]
  },
  {
   "cell_type": "code",
   "execution_count": null,
   "id": "852d6724",
   "metadata": {},
   "outputs": [],
   "source": [
    "df = df.drop('Age', axis=1)\n",
    "print(df)"
   ]
  },
  {
   "cell_type": "code",
   "execution_count": null,
   "id": "8f240d53",
   "metadata": {},
   "outputs": [],
   "source": [
    "new_row = pd.DataFrame([{'Employee': 'Sophia', 'Department': 'Marketing', 'Salary': 65000, 'Bonus': 6500}])\n",
    "df = pd.concat([df, new_row], ignore_index=True)\n",
    "print(df)"
   ]
  },
  {
   "cell_type": "code",
   "execution_count": null,
   "id": "bc1fb126",
   "metadata": {},
   "outputs": [],
   "source": [
    "df = df.drop(0, axis=0).reset_index(drop=True)\n",
    "print(df)"
   ]
  },
  {
   "cell_type": "code",
   "execution_count": null,
   "id": "2072b7a3",
   "metadata": {},
   "outputs": [],
   "source": [
    "df = df.drop('Bonus', axis=1)\n",
    "print(df)"
   ]
  }
 ],
 "metadata": {
  "language_info": {
   "name": "python"
  }
 },
 "nbformat": 4,
 "nbformat_minor": 5
}
